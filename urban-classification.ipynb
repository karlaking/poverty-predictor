{
 "cells": [
  {
   "cell_type": "markdown",
   "metadata": {},
   "source": [
    "### Aquiring and classifying daytime Landsat 8  Imagery for Burundi\n",
    "The Descartes Labs API delivers a variety of image products, including Landsat8 Data: http://descartes-labs-python.readthedocs.io/en/latest/api.html\n",
    "\n",
    "We will use satellite day and night time from 2017. Burundi's dry season spans June to late September. Imagery will be collected as close to August 15th, 2017 to minimize noise created from seasonality between the datasets and increase the likelhood the images will be cloud free."
   ]
  },
  {
   "cell_type": "code",
   "execution_count": 8,
   "metadata": {
    "collapsed": true
   },
   "outputs": [],
   "source": [
    "import os\n",
    "import warnings\n",
    "from pprint import pprint"
   ]
  },
  {
   "cell_type": "code",
   "execution_count": 9,
   "metadata": {
    "collapsed": true
   },
   "outputs": [],
   "source": [
    "import descarteslabs as dl"
   ]
  },
  {
   "cell_type": "code",
   "execution_count": 10,
   "metadata": {},
   "outputs": [
    {
     "name": "stdout",
     "output_type": "stream",
     "text": [
      "{'bbox': [29.001302, -4.468538, 30.849959, -2.309987],\n",
      " 'id': 85632285,\n",
      " 'name': 'Burundi',\n",
      " 'path': 'continent:africa_country:burundi',\n",
      " 'placetype': 'country',\n",
      " 'slug': 'africa_burundi'}\n"
     ]
    }
   ],
   "source": [
    "# *************FIND COUNTRY BOUNDARY ***************\n",
    "matches = dl.places.find('burundi')\n",
    "aoi = matches[0]\n",
    "pprint(aoi)\n",
    "\n",
    "# This area of interest just gives us some basic properties such as bounding boxes.\n",
    "# To access a GeoJSON Geometry object of that place, we call the `Places.shape` method, in this case\n",
    "# accessing a low-resolution version of this particular shape.\n",
    "shape = dl.places.shape(aoi['slug'], geom='low')"
   ]
  },
  {
   "cell_type": "code",
   "execution_count": 17,
   "metadata": {},
   "outputs": [
    {
     "name": "stdout",
     "output_type": "stream",
     "text": [
      "['landsat:LC08:01:RT:TOAR:meta_LC08_L1TP_172062_20170701_20170701_01_RT_v1', 'landsat:LC08:01:RT:TOAR:meta_LC08_L1TP_172063_20170701_20170701_01_RT_v1', 'landsat:LC08:01:T1:TOAR:meta_LC08_L1TP_173062_20170606_20170616_01_T1_v1', 'landsat:LC08:01:T1:TOAR:meta_LC08_L1TP_173063_20170606_20170616_01_T1_v1']\n"
     ]
    }
   ],
   "source": [
    "# *************FIND MATCHING SATELLITE IMAGES ***************\n",
    "# PRODUCTS\n",
    "\n",
    "\n",
    "# See what satellite products are available \n",
    "products = dl.metadata.available_products()\n",
    "\n",
    "# isolate landsat 8 products\n",
    "landsat_products = []\n",
    "for product in products:\n",
    "  if 'LC08'in product: \n",
    "    landsat_products.append(product)\n",
    "\n",
    "# Isolate images from Burundi's dry season, from June to September.\n",
    "feature_collection = dl.metadata.search(\n",
    "    products= landsat_products, \n",
    "    start_time='2017-06-01',\n",
    "    end_time='2017-09-30',\n",
    "    cloud_fraction= .2,\n",
    "    place=aoi['slug'])\n",
    "\n",
    "# Through visual inspection, I identified the best images to mosaic from the subset. \n",
    "north_east = 'landsat:LC08:01:RT:TOAR:meta_LC08_L1TP_172062_20170701_20170701_01_RT_v1'\n",
    "south_east = 'landsat:LC08:01:RT:TOAR:meta_LC08_L1TP_172063_20170701_20170701_01_RT_v1'\n",
    "north_west = 'landsat:LC08:01:T1:TOAR:meta_LC08_L1TP_173062_20170606_20170616_01_T1_v1'\n",
    "south_west = 'landsat:LC08:01:T1:TOAR:meta_LC08_L1TP_173063_20170606_20170616_01_T1_v1'\n",
    "\n",
    "ids = [north_east, south_east, north_west, south_west]\n",
    "print(ids)\n"
   ]
  },
  {
   "cell_type": "code",
   "execution_count": null,
   "metadata": {
    "collapsed": true
   },
   "outputs": [],
   "source": [
    "['landsat:LC08:PRE:TOAR:meta_LC80330342017072_v1', 'landsat:LC08:PRE:TOAR:meta_LC80330352017072_v1']"
   ]
  },
  {
   "cell_type": "code",
   "execution_count": 13,
   "metadata": {},
   "outputs": [
    {
     "name": "stdout",
     "output_type": "stream",
     "text": [
      "[[[ 0.  0.  0.  0.]\n",
      "  [ 0.  0.  0.  0.]\n",
      "  [ 0.  0.  0.  0.]\n",
      "  ..., \n",
      "  [ 0.  0.  0.  0.]\n",
      "  [ 0.  0.  0.  0.]\n",
      "  [ 0.  0.  0.  0.]]\n",
      "\n",
      " [[ 0.  0.  0.  0.]\n",
      "  [ 0.  0.  0.  0.]\n",
      "  [ 0.  0.  0.  0.]\n",
      "  ..., \n",
      "  [ 0.  0.  0.  0.]\n",
      "  [ 0.  0.  0.  0.]\n",
      "  [ 0.  0.  0.  0.]]\n",
      "\n",
      " [[ 0.  0.  0.  0.]\n",
      "  [ 0.  0.  0.  0.]\n",
      "  [ 0.  0.  0.  0.]\n",
      "  ..., \n",
      "  [ 0.  0.  0.  0.]\n",
      "  [ 0.  0.  0.  0.]\n",
      "  [ 0.  0.  0.  0.]]\n",
      "\n",
      " ..., \n",
      " [[ 0.  0.  0.  0.]\n",
      "  [ 0.  0.  0.  0.]\n",
      "  [ 0.  0.  0.  0.]\n",
      "  ..., \n",
      "  [ 0.  0.  0.  0.]\n",
      "  [ 0.  0.  0.  0.]\n",
      "  [ 0.  0.  0.  0.]]\n",
      "\n",
      " [[ 0.  0.  0.  0.]\n",
      "  [ 0.  0.  0.  0.]\n",
      "  [ 0.  0.  0.  0.]\n",
      "  ..., \n",
      "  [ 0.  0.  0.  0.]\n",
      "  [ 0.  0.  0.  0.]\n",
      "  [ 0.  0.  0.  0.]]\n",
      "\n",
      " [[ 0.  0.  0.  0.]\n",
      "  [ 0.  0.  0.  0.]\n",
      "  [ 0.  0.  0.  0.]\n",
      "  ..., \n",
      "  [ 0.  0.  0.  0.]\n",
      "  [ 0.  0.  0.  0.]\n",
      "  [ 0.  0.  0.  0.]]]\n",
      "2287\n"
     ]
    }
   ],
   "source": [
    "# *************OUTPUT ARRAY ***************\n",
    "\n",
    "# Rasterize the features.\n",
    "#  * Select swir2, swir1, red, alpha. This combination is known to be good for identifying urban areas\n",
    "#  * https://landsat.usgs.gov/what-are-band-designations-landsat-satellites\n",
    "#  * https://blogs.esri.com/esri/arcgis/2013/07/24/band-combinations-for-landsat-8/\n",
    "#  * Scale the incoming data with range [0, 10000] down to [0, 4000] (40% TOAR)\n",
    "#  * Choose an output type of \"Byte\" (uint8)\n",
    "#  * Choose 60m resolution\n",
    "#  * Apply a cutline of Burundi's boundary \n",
    "\n",
    "\n",
    "arr, meta = dl.raster.ndarray(\n",
    "    ids,\n",
    "    bands=['swir2', 'swir1', 'red', 'alpha'],\n",
    "    scales=[[0,4000], [0, 4000], [0, 4000], None],\n",
    "    data_type='Float32',\n",
    "    resolution=90,\n",
    "    cutline=shape['geometry']\n",
    "    #srs=\"EPSG:4326\" Does not work \n",
    "    )\n",
    "\n",
    "\n",
    "'''\n",
    "for id in ids:\n",
    "    arr, meta = dl.raster.raster(\n",
    "        id,\n",
    "#         bands=['swir2', 'swir1', 'red', 'alpha'],\n",
    "        scales=[[0,4000], [0, 4000], [0, 4000], None],\n",
    "        data_type='Float32',\n",
    "        resolution=90,\n",
    "        cutline=shape['geometry'],\n",
    "        save= \"true\"\n",
    "    )\n",
    "\n",
    "'''\n",
    "\n",
    "print(arr)\n",
    "print(len(arr[1328]))\n",
    "      \n",
    "# Note: A value of 1 in the alpha channel signifies where there is valid data.\n",
    "# We use this throughout the majority of our imagery as a standard way of specifying\n",
    "# valid or nodata regions. This is particularly helpful if a value of 0 in a particular\n",
    "# band has meaning, rather than specifying a lack of data."
   ]
  },
  {
   "cell_type": "code",
   "execution_count": 15,
   "metadata": {},
   "outputs": [
    {
     "data": {
      "text/plain": [
       "array([  60.03176498,  104.31959534,   43.71183014,  255.        ], dtype=float32)"
      ]
     },
     "execution_count": 15,
     "metadata": {},
     "output_type": "execute_result"
    }
   ],
   "source": [
    "rows, cols, bands = arr.shape\n",
    "row = 1328\n",
    "col = 1143\n",
    "\n",
    "arr[row][col]"
   ]
  },
  {
   "cell_type": "code",
   "execution_count": 16,
   "metadata": {},
   "outputs": [
    {
     "data": {
      "text/plain": [
       "<matplotlib.image.AxesImage at 0x103b5bd68>"
      ]
     },
     "execution_count": 16,
     "metadata": {},
     "output_type": "execute_result"
    },
    {
     "data": {
      "image/png": "[encoded data removed]",
      "text/plain": [
       "<matplotlib.figure.Figure at 0x105f94eb8>"
      ]
     },
     "metadata": {},
     "output_type": "display_data"
    }
   ],
   "source": [
    "# *************PLOT SINGLE IMAGE ***************\n",
    "\n",
    "import matplotlib.pyplot as plt\n",
    "%matplotlib inline\n",
    "\n",
    "plt.figure(figsize=[16,16])\n",
    "plt.imshow(arr)"
   ]
  },
  {
   "cell_type": "markdown",
   "metadata": {},
   "source": [
    "### Train Model"
   ]
  },
  {
   "cell_type": "code",
   "execution_count": 51,
   "metadata": {
    "collapsed": true
   },
   "outputs": [],
   "source": [
    "%matplotlib notebook\n",
    "\n",
    "import numpy as np\n",
    "import os\n",
    "import scipy\n",
    "\n",
    "from matplotlib import pyplot as plt\n",
    "from matplotlib import colors\n",
    "from osgeo import gdal\n",
    "from skimage import exposure\n",
    "from skimage.segmentation import quickshift, felzenszwalb\n",
    "from sklearn import metrics\n",
    "from sklearn.ensemble import RandomForestClassifier\n",
    "\n",
    "TRAIN_DATA_PATH = \"data/landsat/train/\"\n",
    "# TEST_DATA_PATH = \"data/test/\""
   ]
  },
  {
   "cell_type": "code",
   "execution_count": 52,
   "metadata": {
    "collapsed": true
   },
   "outputs": [],
   "source": [
    "def create_mask_from_vector(vector_data_path, cols, rows, geo_transform,\n",
    "                            projection, target_value=1):\n",
    "    \"\"\"Rasterize the given vector (wrapper for gdal.RasterizeLayer).\"\"\"\n",
    "    data_source = gdal.OpenEx(vector_data_path, gdal.OF_VECTOR)\n",
    "    layer = data_source.GetLayer(0)\n",
    "    driver = gdal.GetDriverByName('MEM')  # In memory dataset\n",
    "    target_ds = driver.Create('', cols, rows, 1, gdal.GDT_UInt16)\n",
    "    target_ds.SetGeoTransform(geo_transform)\n",
    "    target_ds.SetProjection(projection)\n",
    "    gdal.RasterizeLayer(target_ds, [1], layer, burn_values=[target_value])\n",
    "    return target_ds\n",
    "\n",
    "\n",
    "def vectors_to_raster(file_paths, rows, cols, geo_transform, projection):\n",
    "    \"\"\"Rasterize all the vectors in the given directory into a single image.\"\"\"\n",
    "    labeled_pixels = np.zeros((rows, cols))\n",
    "    for i, path in enumerate(file_paths):\n",
    "        label = i+1\n",
    "        ds = create_mask_from_vector(path, cols, rows, geo_transform,\n",
    "                                     projection, target_value=label)\n",
    "        band = ds.GetRasterBand(1)\n",
    "        labeled_pixels += band.ReadAsArray()\n",
    "        ds = None\n",
    "    return labeled_pixels"
   ]
  },
  {
   "cell_type": "markdown",
   "metadata": {},
   "source": [
    "Using the array derived from the descarteslabs api:"
   ]
  },
  {
   "cell_type": "code",
   "execution_count": 60,
   "metadata": {
    "collapsed": true
   },
   "outputs": [],
   "source": [
    "bands_data = arr\n",
    "rows, cols, n_bands = bands_data.shape"
   ]
  },
  {
   "cell_type": "markdown",
   "metadata": {},
   "source": [
    "Reading the image in from disc: "
   ]
  },
  {
   "cell_type": "code",
   "execution_count": 53,
   "metadata": {
    "collapsed": true
   },
   "outputs": [],
   "source": [
    "RASTER_DATA_FILE = \"data/landsat/landast_warped.tif\""
   ]
  },
  {
   "cell_type": "code",
   "execution_count": null,
   "metadata": {
    "collapsed": true
   },
   "outputs": [],
   "source": [
    "raster_dataset = gdal.Open(RASTER_DATA_FILE, gdal.GA_ReadOnly)\n",
    "geo_transform = raster_dataset.GetGeoTransform()\n",
    "proj = raster_dataset.GetProjectionRef()\n",
    "n_bands = raster_dataset.RasterCount\n",
    "bands_data = []\n",
    "for b in range(1, n_bands+1):\n",
    "    band = raster_dataset.GetRasterBand(b)\n",
    "    bands_data.append(band.ReadAsArray())\n",
    "\n",
    "bands_data = np.dstack(b for b in bands_data)"
   ]
  },
  {
   "cell_type": "markdown",
   "metadata": {},
   "source": [
    "Return image after stretching or shrinking its intensity levels."
   ]
  },
  {
   "cell_type": "code",
   "execution_count": 55,
   "metadata": {
    "collapsed": true
   },
   "outputs": [],
   "source": [
    "img = exposure.rescale_intensity(bands_data)"
   ]
  },
  {
   "cell_type": "code",
   "execution_count": 59,
   "metadata": {},
   "outputs": [
    {
     "name": "stdout",
     "output_type": "stream",
     "text": [
      "1859018\n"
     ]
    }
   ],
   "source": [
    "segments_quick = quickshift(img, kernel_size=7, max_dist=3, ratio=0.35, convert2lab=False)\n",
    "n_segments = len(np.unique(segments_quick))\n",
    "print(n_segments)"
   ]
  },
  {
   "cell_type": "markdown",
   "metadata": {},
   "source": [
    "#### Questions: \n",
    "1. The values range between 0 and 256, I was expecting a larger range. May have to do with Byte formate."
   ]
  }
 ],
 "metadata": {
  "kernelspec": {
   "display_name": "Python 2",
   "language": "python",
   "name": "python2"
  },
  "language_info": {
   "codemirror_mode": {
    "name": "ipython",
    "version": 3
   },
   "file_extension": ".py",
   "mimetype": "text/x-python",
   "name": "python",
   "nbconvert_exporter": "python",
   "pygments_lexer": "ipython3",
   "version": "3.5.4"
  }
 },
 "nbformat": 4,
 "nbformat_minor": 1
}
